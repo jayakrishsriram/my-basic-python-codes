{
 "cells": [
  {
   "cell_type": "code",
   "execution_count": 4,
   "id": "c0f99485",
   "metadata": {},
   "outputs": [
    {
     "name": "stdout",
     "output_type": "stream",
     "text": [
      "Spaceship flying\n",
      "Destination Sun\n",
      "Spaceship flying\n",
      "Destination moon\n"
     ]
    }
   ],
   "source": [
    "class Apollo:\n",
    "    destination=\"moon\"\n",
    "    def fly(self):\n",
    "        print(\"Spaceship flying\")\n",
    "    def get_desti(self):\n",
    "        print(\"Destination\",self.destination)\n",
    "a=Apollo()\n",
    "b=Apollo()\n",
    "a.fly()\n",
    "a.destination=\"Sun\"\n",
    "a.get_desti()\n",
    "b.fly()\n",
    "b.get_desti()"
   ]
  },
  {
   "cell_type": "code",
   "execution_count": 5,
   "id": "95b229bd",
   "metadata": {},
   "outputs": [
    {
     "name": "stdout",
     "output_type": "stream",
     "text": [
      "100\n",
      "60\n",
      "jai 25\n",
      "Average: 80.0\n",
      "Destroy\n"
     ]
    }
   ],
   "source": [
    "class Student:\n",
    "    def __init__(self,name,age):\n",
    "        self.name=name\n",
    "        self.age=age\n",
    "    def get_mark(self):\n",
    "        self.m1=int(input())\n",
    "        self.m2=int(input())\n",
    "    def avg(self):\n",
    "        print(\"Average:\",(self.m1+self.m2)/2)\n",
    "    def det(self):\n",
    "        print(self.name,self.age)\n",
    "    def __del__(self):\n",
    "        print(\"Destroy\")\n",
    "a=Student(\"jai\",25)\n",
    "a.get_mark()\n",
    "a.det()\n",
    "a.avg()\n",
    "del a"
   ]
  },
  {
   "cell_type": "code",
   "execution_count": 6,
   "id": "89a56cb0",
   "metadata": {},
   "outputs": [
    {
     "name": "stdout",
     "output_type": "stream",
     "text": [
      "jai 25\n"
     ]
    }
   ],
   "source": [
    "class Person:\n",
    "    def __init__(self,name,age):\n",
    "        self.name=name\n",
    "        self.age=age\n",
    "    def say(self):\n",
    "        print(self.name,self.age)\n",
    "class Stud(Person):\n",
    "    def __init__(self,name,age):\n",
    "        Person.__init__(self,name,age)\n",
    "a=Stud(\"jai\",25)\n",
    "a.say()"
   ]
  },
  {
   "cell_type": "code",
   "execution_count": 7,
   "id": "52c3f50b",
   "metadata": {},
   "outputs": [
    {
     "name": "stdout",
     "output_type": "stream",
     "text": [
      "jai 25 2015\n"
     ]
    }
   ],
   "source": [
    "class Person:\n",
    "    def __init__(self,name,age):\n",
    "        self.name=name\n",
    "        self.age=age\n",
    "    def say(self):\n",
    "        print(self.name,self.age)\n",
    "class Stud(Person):\n",
    "    def __init__(self,name,age,year):\n",
    "        super().__init__(name,age)\n",
    "        self.year=year\n",
    "    def say(self):\n",
    "        print(self.name,self.age,self.year)\n",
    "a=Stud(\"jai\",25,2015)\n",
    "a.say()"
   ]
  },
  {
   "cell_type": "code",
   "execution_count": 3,
   "id": "a82d0cc9",
   "metadata": {},
   "outputs": [
    {
     "name": "stdout",
     "output_type": "stream",
     "text": [
      "mileage=30km/hr\n",
      "mileage=25km/hr\n"
     ]
    }
   ],
   "source": [
    "from abc import ABC\n",
    "class Car(ABC):\n",
    "    def mileage(self):\n",
    "        pass\n",
    "class Tesla(Car):\n",
    "    def mileage(self):\n",
    "        print(\"mileage=30km/hr\")\n",
    "class Suzuki(Car):\n",
    "    def mileage(self):\n",
    "        print(\"mileage=25km/hr\")\n",
    "t=Tesla()\n",
    "t.mileage()\n",
    "t1=Suzuki()\n",
    "t1.mileage()\n",
    "\n",
    "        "
   ]
  },
  {
   "cell_type": "code",
   "execution_count": null,
   "id": "ae9284e6",
   "metadata": {},
   "outputs": [],
   "source": []
  }
 ],
 "metadata": {
  "kernelspec": {
   "display_name": "Python 3 (ipykernel)",
   "language": "python",
   "name": "python3"
  },
  "language_info": {
   "codemirror_mode": {
    "name": "ipython",
    "version": 3
   },
   "file_extension": ".py",
   "mimetype": "text/x-python",
   "name": "python",
   "nbconvert_exporter": "python",
   "pygments_lexer": "ipython3",
   "version": "3.9.13"
  }
 },
 "nbformat": 4,
 "nbformat_minor": 5
}
