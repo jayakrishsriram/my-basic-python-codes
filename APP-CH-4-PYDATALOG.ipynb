{
 "cells": [
  {
   "cell_type": "code",
   "execution_count": 2,
   "metadata": {},
   "outputs": [
    {
     "name": "stdout",
     "output_type": "stream",
     "text": [
      "A | Pow2 | Pow3 | Square\n",
      "--|------|------|-------\n",
      "0 | 0    | 0    | 0     \n",
      "1 | 1    | 1    | 1     \n",
      "2 | 4    | 8    | 2     \n",
      "3 | 9    | 27   | 3     \n",
      "4 | 16   | 64   | 4     \n",
      "5 | 25   | 125  | 5     \n",
      "6 | 36   | 216  | 6     \n",
      "7 | 49   | 343  | 7     \n",
      "8 | 64   | 512  | 8     \n",
      "9 | 81   | 729  | 9     \n"
     ]
    }
   ],
   "source": [
    "from pyDatalog import pyDatalog\n",
    "pyDatalog.create_terms(\"A, Pow2, Pow3\") #create the name for the column\n",
    "def square(n):\n",
    "    return n*n\n",
    "\n",
    "pyDatalog.create_terms(\"Square\") # Can create in any place\n",
    "input_values = range(10)[::-1] \n",
    "\n",
    "print ( A.in_(input_values) & (Pow2 == square(A)) & (Pow3 == A**3) & (Square== A))\n"
   ]
  },
  {
   "cell_type": "code",
   "execution_count": 7,
   "metadata": {},
   "outputs": [
    {
     "data": {
      "text/plain": [
       "cat_person(X) <= person(X)&~has_pet(X,'dog')"
      ]
     },
     "execution_count": 7,
     "metadata": {},
     "output_type": "execute_result"
    }
   ],
   "source": [
    "pyDatalog.create_terms('person, has_pet, cat, dog,cat_person')\n",
    "\n",
    "+ person('Alice')\n",
    "+ person('Bob')\n",
    "+ has_pet('Alice', 'cat')\n",
    "+ has_pet('Bob', 'dog')\n",
    "pyDatalog.create_terms('X')\n",
    "cat_person(X) <= person(X) & ~has_pet(X, 'dog')"
   ]
  },
  {
   "cell_type": "code",
   "execution_count": 1,
   "metadata": {},
   "outputs": [
    {
     "name": "stdout",
     "output_type": "stream",
     "text": [
      "range(7, -1, -1)\n",
      "7\n",
      "6\n",
      "5\n",
      "4\n",
      "3\n",
      "2\n",
      "1\n",
      "0\n"
     ]
    }
   ],
   "source": [
    "input_values = range(8)[::-1]  \n",
    "print(input_values)\n",
    "for i in input_values:\n",
    "    print(i)"
   ]
  },
  {
   "cell_type": "code",
   "execution_count": 14,
   "metadata": {},
   "outputs": [
    {
     "name": "stdout",
     "output_type": "stream",
     "text": [
      "(7, 3, 0, 2, 5, 1, 6, 4)\n"
     ]
    }
   ],
   "source": [
    "pyDatalog.create_terms('N,X0,X1,X2,X3,X4,X5,X6,X7')\n",
    "pyDatalog.create_terms('ok,queens,next_queen')\n",
    "queens(X0) <= (X0._in(range(8)))\n",
    "queens(X0,X1) <= queens(X0) &next_queen(X0,X1)\n",
    "queens(X0,X1,X2) <= queens(X0,X1) &next_queen(X0,X1,X2)\n",
    "queens(X0,X1,X2,X3) <= queens(X0,X1,X2) &next_queen(X0,X1,X2,X3)\n",
    "queens(X0,X1,X2,X3,X4) <= queens(X0,X1,X2,X3) &next_queen(X0,X1,X2,X3,X4)\n",
    "queens(X0,X1,X2,X3,X4,X5) <= queens(X0,X1,X2,X3,X4) &next_queen(X0,X1,X2,X3,X4,X5)\n",
    "queens(X0,X1,X2,X3,X4,X5,X6) <= queens(X0,X1,X2,X3,X4,X5) &next_queen(X0,X1,X2,X3,X4,X5,X6)\n",
    "queens(X0,X1,X2,X3,X4,X5,X6,X7) <= queens(X0,X1,X2,X3,X4,X5,X6) &next_queen(X0,X1,X2,X3,X4,X5,X6,X7)\n",
    "next_queen(X0,X1) <= queens(X1) & ok(X0,1,X1)\n",
    "next_queen(X0,X1,X2) <= next_queen(X1,X2) & ok(X0,2,X2)\n",
    "next_queen(X0,X1,X2,X3) <= next_queen(X1,X2,X3) & ok(X0,3,X3)\n",
    "next_queen(X0,X1,X2,X3,X4) <= next_queen(X1,X2,X3,X4) & ok(X0,4,X4)\n",
    "next_queen(X0,X1,X2,X3,X4,X5) <= next_queen(X1,X2,X3,X4,X5) & ok(X0,5,X5)\n",
    "next_queen(X0,X1,X2,X3,X4,X5,X6) <= next_queen(X1,X2,X3,X4,X5,X6) & ok(X0,6,X6)\n",
    "next_queen(X0,X1,X2,X3,X4,X5,X6,X7) <= next_queen(X1,X2,X3,X4,X5,X6,X7) & ok(X0,7,X7)\n",
    "ok(X1, N, X2) <= (X1 != X2) & (X1 != X2+N) & (X1 != X2-N)\n",
    "print(queens(X0,X1,X2,X3,X4,X5,X6,X7).data[0])"
   ]
  }
 ],
 "metadata": {
  "kernelspec": {
   "display_name": "Python 3",
   "language": "python",
   "name": "python3"
  },
  "language_info": {
   "codemirror_mode": {
    "name": "ipython",
    "version": 3
   },
   "file_extension": ".py",
   "mimetype": "text/x-python",
   "name": "python",
   "nbconvert_exporter": "python",
   "pygments_lexer": "ipython3",
   "version": "3.10.4"
  },
  "orig_nbformat": 4
 },
 "nbformat": 4,
 "nbformat_minor": 2
}
