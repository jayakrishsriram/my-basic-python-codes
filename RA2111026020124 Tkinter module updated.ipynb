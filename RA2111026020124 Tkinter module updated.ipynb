{
 "cells": [
  {
   "cell_type": "code",
   "execution_count": 1,
   "id": "11dc2dd9",
   "metadata": {
    "id": "11dc2dd9"
   },
   "outputs": [],
   "source": [
    "import tkinter as tk\n",
    "root=tk.Tk()\n",
    "button=tk.Button(root,text=\"Stop\",width=25,command=root.destroy)\n",
    "button.pack()\n",
    "root.mainloop()"
   ]
  },
  {
   "cell_type": "code",
   "execution_count": 2,
   "id": "50e994b5",
   "metadata": {
    "id": "50e994b5"
   },
   "outputs": [],
   "source": [
    "import tkinter as tk\n",
    "root=tk.Tk()\n",
    "label=tk.Label(root,text=\"Hello world\")\n",
    "label.grid()\n",
    "root.mainloop()"
   ]
  },
  {
   "cell_type": "code",
   "execution_count": 3,
   "id": "56a87f6a",
   "metadata": {
    "id": "56a87f6a"
   },
   "outputs": [],
   "source": [
    "from tkinter import messagebox\n",
    "def hello():\n",
    "    msg=messagebox.showinfo(\"GUI event demo\",\"Button Demo\")\n",
    "root=tk.Tk()\n",
    "root.geometry(\"200x200\")\n",
    "button=tk.Button(root,text=\"Fire me\",command=hello)\n",
    "button.place(x=50,y=50)\n",
    "root.mainloop()"
   ]
  },
  {
   "cell_type": "code",
   "execution_count": 4,
   "id": "b17cb7d5",
   "metadata": {
    "id": "b17cb7d5"
   },
   "outputs": [],
   "source": [
    "from tkinter import messagebox\n",
    "def hello():\n",
    "    msg=messagebox.showinfo(\"GUI Event Demo\",t.get())\n",
    "root=tk.Tk()\n",
    "root.geometry(\"200x200\")\n",
    "L1=tk.Label(root,text=\"Name\")\n",
    "L1.grid(row=0)\n",
    "t=tk.Entry(root)\n",
    "t.grid(row=0,column=1)\n",
    "b=tk.Button(root,text=\"Fire Me\",command=hello)\n",
    "b.grid(rows=1,columnspan=2)\n",
    "root.mainloop()"
   ]
  },
  {
   "cell_type": "code",
   "execution_count": 5,
   "id": "418c4646",
   "metadata": {
    "id": "418c4646"
   },
   "outputs": [],
   "source": [
    "from tkinter import*\n",
    "master=Tk()\n",
    "w=Canvas(master,width=40,height=60)\n",
    "w.pack()\n",
    "canvas_height=20\n",
    "canvas_width=200\n",
    "y=int(canvas_height/2)\n",
    "w.create_line(0,y,canvas_width,y)\n",
    "w.mainloop()"
   ]
  },
  {
   "cell_type": "code",
   "execution_count": 6,
   "id": "26365ade",
   "metadata": {
    "id": "26365ade"
   },
   "outputs": [],
   "source": [
    "# mouse click\n",
    "import turtle as t\n",
    "t.setup(400,500)\n",
    "wn=t.getscreen()\n",
    "wn.title(\"Handle mouse click\")\n",
    "wn.bgcolor(\"light green\")\n",
    "tess=t.Turtle()\n",
    "tess.color(\"purple\")\n",
    "tess.pensize(3)\n",
    "tess.shape(\"circle\")\n",
    "def h1(x,y):\n",
    "    tess.goto(x,y)\n",
    "wn.onclick(h1)\n",
    "wn.mainloop()"
   ]
  },
  {
   "cell_type": "code",
   "execution_count": null,
   "id": "b53c5fc7",
   "metadata": {
    "id": "b53c5fc7",
    "outputId": "6907ef87-2cf5-48da-9e18-91682da15915"
   },
   "outputs": [
    {
     "ename": "Terminator",
     "evalue": "",
     "output_type": "error",
     "traceback": [
      "\u001b[1;31m---------------------------------------------------------------------------\u001b[0m",
      "\u001b[1;31mTerminator\u001b[0m                                Traceback (most recent call last)",
      "\u001b[1;32m~\\AppData\\Local\\Temp\\ipykernel_3760\\2075311704.py\u001b[0m in \u001b[0;36m<module>\u001b[1;34m\u001b[0m\n\u001b[0;32m      1\u001b[0m \u001b[1;31m#key press\u001b[0m\u001b[1;33m\u001b[0m\u001b[1;33m\u001b[0m\u001b[0m\n\u001b[0;32m      2\u001b[0m \u001b[1;32mimport\u001b[0m \u001b[0mturtle\u001b[0m \u001b[1;32mas\u001b[0m \u001b[0mt\u001b[0m\u001b[1;33m\u001b[0m\u001b[1;33m\u001b[0m\u001b[0m\n\u001b[1;32m----> 3\u001b[1;33m \u001b[0mt\u001b[0m\u001b[1;33m.\u001b[0m\u001b[0msetup\u001b[0m\u001b[1;33m(\u001b[0m\u001b[1;36m400\u001b[0m\u001b[1;33m,\u001b[0m\u001b[1;36m500\u001b[0m\u001b[1;33m)\u001b[0m\u001b[1;33m\u001b[0m\u001b[1;33m\u001b[0m\u001b[0m\n\u001b[0m\u001b[0;32m      4\u001b[0m \u001b[0mts\u001b[0m\u001b[1;33m=\u001b[0m\u001b[0mt\u001b[0m\u001b[1;33m.\u001b[0m\u001b[0mTurtle\u001b[0m\u001b[1;33m(\u001b[0m\u001b[1;33m)\u001b[0m\u001b[1;33m\u001b[0m\u001b[1;33m\u001b[0m\u001b[0m\n\u001b[0;32m      5\u001b[0m \u001b[0mT\u001b[0m\u001b[1;33m=\u001b[0m\u001b[0mts\u001b[0m\u001b[1;33m.\u001b[0m\u001b[0mgetscreen\u001b[0m\u001b[1;33m(\u001b[0m\u001b[1;33m)\u001b[0m\u001b[1;33m\u001b[0m\u001b[1;33m\u001b[0m\u001b[0m\n",
      "\u001b[1;32mC:\\ProgramData\\Anaconda3\\lib\\turtle.py\u001b[0m in \u001b[0;36msetup\u001b[1;34m(width, height, startx, starty)\u001b[0m\n",
      "\u001b[1;31mTerminator\u001b[0m: "
     ]
    }
   ],
   "source": [
    "#key press\n",
    "import turtle as t\n",
    "t.setup(400,500)\n",
    "ts=t.Turtle()\n",
    "T=ts.getscreen()\n",
    "ts.shape(\"turtle\")\n",
    "ts.color(\"yellow\")\n",
    "T.bgcolor(\"black\")\n",
    "T.title(\"Key press\")\n",
    "def move():\n",
    "    ts.forward(2)\n",
    "def turn_left():\n",
    "    ts.left(90)\n",
    "    \n",
    "def turn_right():\n",
    "    ts.right(90)\n",
    "def spin():\n",
    "    for i in range(4):\n",
    "        ts.right(90)\n",
    "def h1():\n",
    "    T.bye()\n",
    "T.onkey(move,\"space\")\n",
    "T.onkey(turn_left,\"left\")\n",
    "T.onkey(turn_right,\"right\")\n",
    "T.onkey(spin,\"s\")\n",
    "T.onkey(h1,\"q\")\n",
    "T.listen()\n",
    "T.mainloop()"
   ]
  },
  {
   "cell_type": "code",
   "execution_count": 9,
   "id": "5de57394",
   "metadata": {
    "colab": {
     "base_uri": "https://localhost:8080/",
     "height": 235
    },
    "executionInfo": {
     "elapsed": 10,
     "status": "error",
     "timestamp": 1677411047140,
     "user": {
      "displayName": "Jayakrishna Sriram",
      "userId": "01718214829570383043"
     },
     "user_tz": -330
    },
    "id": "5de57394",
    "outputId": "5a67e335-1384-4bb7-8120-8d373ac82610"
   },
   "outputs": [],
   "source": [
    "import tkinter as tk\n",
    "\n",
    "root = tk.Tk()\n",
    "root.title(\"My Form\")\n",
    "\n",
    "menu = tk.Menu(root)\n",
    "menu.add_command(label=\"Exit\", command=root.destroy)\n",
    "root.config(menu=menu)\n",
    "\n",
    "label = tk.Label(root, text=\"What is your name?\")\n",
    "label.grid(row=0)\n",
    "entry = tk.Entry(root)\n",
    "entry.grid(row=0,column=1)\n",
    "\n",
    "radio_var = tk.StringVar()\n",
    "label = tk.Label(root, text=\"Your gender:\")\n",
    "label.grid(row=1)\n",
    "\n",
    "radio1 = tk.Radiobutton(root, text=\"Male\", variable=radio_var, value=\"Male\")\n",
    "radio1.grid(row=1,column=1)\n",
    "\n",
    "radio2 = tk.Radiobutton(root, text=\"Female\", variable=radio_var, value=\"Female\")\n",
    "radio2.grid(row=1,column=2)\n",
    "\n",
    "radio3 = tk.Radiobutton(root, text=\"Other\", variable=radio_var, value=\"Other\")\n",
    "radio3.grid(row=1,column=3)\n",
    "\n",
    "c1 = tk.IntVar()\n",
    "c2 = tk.IntVar()\n",
    "c3 = tk.IntVar()\n",
    "label = tk.Label(root, text=\"Known programming language:\")\n",
    "label.grid(row=2)\n",
    "checkbox1 = tk.Checkbutton(root, text=\"Python\", variable=c1)\n",
    "checkbox1 .grid(row=2,column=1)\n",
    "checkbox2 = tk.Checkbutton(root, text=\"Java\", variable=c2)\n",
    "checkbox2.grid(row=2,column=2)\n",
    "checkbox3 = tk.Checkbutton(root, text=\"Ruby\", variable=c3)\n",
    "checkbox3.grid(row=2,column=3)\n",
    "\n",
    "button = tk.Button(root, text=\"Submit\")\n",
    "\n",
    "button.grid(row=5)\n",
    "root.mainloop()"
   ]
  },
  {
   "cell_type": "code",
   "execution_count": null,
   "id": "96314951",
   "metadata": {},
   "outputs": [],
   "source": []
  }
 ],
 "metadata": {
  "colab": {
   "provenance": []
  },
  "kernelspec": {
   "display_name": "Python 3 (ipykernel)",
   "language": "python",
   "name": "python3"
  },
  "language_info": {
   "codemirror_mode": {
    "name": "ipython",
    "version": 3
   },
   "file_extension": ".py",
   "mimetype": "text/x-python",
   "name": "python",
   "nbconvert_exporter": "python",
   "pygments_lexer": "ipython3",
   "version": "3.9.13"
  }
 },
 "nbformat": 4,
 "nbformat_minor": 5
}
