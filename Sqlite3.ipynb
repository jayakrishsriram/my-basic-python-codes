{
 "cells": [
  {
   "cell_type": "code",
   "execution_count": 10,
   "id": "3f754e7c",
   "metadata": {},
   "outputs": [
    {
     "name": "stdout",
     "output_type": "stream",
     "text": [
      "(1000, 'N', 'John', 'Male', '1990-02-02')\n",
      "(1001, 'K', 'Jai', 'Male', '1990-01-01')\n",
      "(1002, 'J', 'Krish', 'Male', '1990-03-01')\n",
      "(1003, 'J', 'saran', 'Male', '1990-03-02')\n",
      "(1004, 'J', 'adithya', 'Male', '1990-03-03')\n"
     ]
    }
   ],
   "source": [
    "import sqlite3\n",
    "connection= sqlite3.connect(\"mytable.db\")\n",
    "crsr=connection.cursor()\n",
    "s=\"\"\" CREATE TABLE student(Stud_id INTEGER PRIMARY KEY,Fname VARCHAR(20),lname VARCHAR(20), Gender VARCHAR(20),Dob DATE);\"\"\"\n",
    "crsr.execute(s)\n",
    "s=\"\"\" INSERT INTO student VALUES (1000`,\"N\",\"John\",\"Male\",\"1990-02-02\");\"\"\"\n",
    "crsr.execute(s)\n",
    "s=\"\"\" INSERT INTO student VALUES (1001,\"K\",\"Jai\",\"Male\",\"1990-01-01\");\"\"\"\n",
    "crsr.execute(s)\n",
    "s=\"\"\" INSERT INTO student VALUES (1002,\"J\",\"Krish\",\"Male\",\"1990-03-01\");\"\"\"\n",
    "crsr.execute(s)\n",
    "s=\"\"\" INSERT INTO student VALUES (1003,\"J\",\"saran\",\"Male\",\"1990-03-02\");\"\"\"\n",
    "crsr.execute(s)\n",
    "s=\"\"\" INSERT INTO student VALUES (1004,\"J\",\"adithya\",\"Male\",\"1990-03-03\");\"\"\"\n",
    "crsr.execute(s)\n",
    "crsr.execute(\"SELECT * FROM student\")\n",
    "a=crsr.fetchall()\n",
    "for i in a:\n",
    "    print(i)\n",
    "connection.commit()\n",
    "connection.close()"
   ]
  },
  {
   "cell_type": "code",
   "execution_count": 11,
   "id": "0816cb34",
   "metadata": {},
   "outputs": [
    {
     "name": "stdout",
     "output_type": "stream",
     "text": [
      "[6, 7, 8, 9, 10, 11, 12, 13, 14, 15, 16, 17, 18, 19]\n"
     ]
    }
   ],
   "source": [
    "l=[x for x in range(20) if(x>5)]\n",
    "print(l)"
   ]
  },
  {
   "cell_type": "code",
   "execution_count": 12,
   "id": "f2efcdb7",
   "metadata": {},
   "outputs": [
    {
     "name": "stdout",
     "output_type": "stream",
     "text": [
      "[6, 7, 8, 9, 10, 11, 12, 13, 14, 15, 16, 17, 18, 19]\n"
     ]
    }
   ],
   "source": [
    "l=[]\n",
    "for x in range(20):\n",
    "    if(x>5):\n",
    "        l.append(x)\n",
    "print(l)"
   ]
  },
  {
   "cell_type": "code",
   "execution_count": null,
   "id": "df74d667",
   "metadata": {},
   "outputs": [],
   "source": []
  }
 ],
 "metadata": {
  "kernelspec": {
   "display_name": "Python 3 (ipykernel)",
   "language": "python",
   "name": "python3"
  },
  "language_info": {
   "codemirror_mode": {
    "name": "ipython",
    "version": 3
   },
   "file_extension": ".py",
   "mimetype": "text/x-python",
   "name": "python",
   "nbconvert_exporter": "python",
   "pygments_lexer": "ipython3",
   "version": "3.9.13"
  }
 },
 "nbformat": 4,
 "nbformat_minor": 5
}
