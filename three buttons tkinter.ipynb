{
 "cells": [
  {
   "cell_type": "code",
   "execution_count": 1,
   "id": "13c76712",
   "metadata": {},
   "outputs": [
    {
     "ename": "TclError",
     "evalue": "no display name and no $DISPLAY environment variable",
     "output_type": "error",
     "traceback": [
      "\u001b[0;31m---------------------------------------------------------------------------\u001b[0m",
      "\u001b[0;31mTclError\u001b[0m                                  Traceback (most recent call last)",
      "Cell \u001b[0;32mIn[1], line 3\u001b[0m\n\u001b[1;32m      1\u001b[0m \u001b[39mimport\u001b[39;00m \u001b[39mtkinter\u001b[39;00m \u001b[39mas\u001b[39;00m \u001b[39mtk\u001b[39;00m\n\u001b[0;32m----> 3\u001b[0m root \u001b[39m=\u001b[39m tk\u001b[39m.\u001b[39;49mTk()\n\u001b[1;32m      4\u001b[0m root\u001b[39m.\u001b[39mtitle(\u001b[39m\"\u001b[39m\u001b[39mMy Form\u001b[39m\u001b[39m\"\u001b[39m)\n\u001b[1;32m      6\u001b[0m menu \u001b[39m=\u001b[39m tk\u001b[39m.\u001b[39mMenu(root)\n",
      "File \u001b[0;32m~/.python/current/lib/python3.10/tkinter/__init__.py:2299\u001b[0m, in \u001b[0;36mTk.__init__\u001b[0;34m(self, screenName, baseName, className, useTk, sync, use)\u001b[0m\n\u001b[1;32m   2297\u001b[0m         baseName \u001b[39m=\u001b[39m baseName \u001b[39m+\u001b[39m ext\n\u001b[1;32m   2298\u001b[0m interactive \u001b[39m=\u001b[39m \u001b[39mFalse\u001b[39;00m\n\u001b[0;32m-> 2299\u001b[0m \u001b[39mself\u001b[39m\u001b[39m.\u001b[39mtk \u001b[39m=\u001b[39m _tkinter\u001b[39m.\u001b[39;49mcreate(screenName, baseName, className, interactive, wantobjects, useTk, sync, use)\n\u001b[1;32m   2300\u001b[0m \u001b[39mif\u001b[39;00m useTk:\n\u001b[1;32m   2301\u001b[0m     \u001b[39mself\u001b[39m\u001b[39m.\u001b[39m_loadtk()\n",
      "\u001b[0;31mTclError\u001b[0m: no display name and no $DISPLAY environment variable"
     ]
    }
   ],
   "source": [
    "import tkinter as tk\n",
    "\n",
    "root = tk.Tk()\n",
    "root.title(\"My Form\")\n",
    "\n",
    "menu = tk.Menu(root)\n",
    "menu.add_command(label=\"Exit\", command=root.destroy)\n",
    "root.config(menu=menu)\n",
    "\n",
    "label = tk.Label(root, text=\"What is your name?\")\n",
    "label.grid(row=0)\n",
    "entry = tk.Entry(root)\n",
    "entry.grid(row=0,column=1)\n",
    "\n",
    "radio_var = tk.StringVar()\n",
    "label = tk.Label(root, text=\"Your gender:\")\n",
    "label.grid(row=1)\n",
    "\n",
    "radio1 = tk.Radiobutton(root, text=\"Male\", variable=radio_var, value=\"Male\")\n",
    "radio1.grid(row=1,column=1)\n",
    "\n",
    "radio2 = tk.Radiobutton(root, text=\"Female\", variable=radio_var, value=\"Female\")\n",
    "radio2.grid(row=1,column=2)\n",
    "\n",
    "radio3 = tk.Radiobutton(root, text=\"Other\", variable=radio_var, value=\"Other\")\n",
    "radio3.grid(row=1,column=3)\n",
    "\n",
    "c1 = tk.IntVar()\n",
    "c2 = tk.IntVar()\n",
    "c3 = tk.IntVar()\n",
    "label = tk.Label(root, text=\"Known programming language:\")\n",
    "label.grid(row=2)\n",
    "checkbox1 = tk.Checkbutton(root, text=\"Python\", variable=c1)\n",
    "checkbox1 .grid(row=2,column=1)\n",
    "checkbox2 = tk.Checkbutton(root, text=\"Java\", variable=c2)\n",
    "checkbox2.grid(row=2,column=2)\n",
    "checkbox3 = tk.Checkbutton(root, text=\"Ruby\", variable=c3)\n",
    "checkbox3.grid(row=2,column=3)\n",
    "\n",
    "button = tk.Button(root, text=\"Submit\")\n",
    "\n",
    "button.grid(row=5)\n",
    "root.mainloop()"
   ]
  },
  {
   "cell_type": "code",
   "execution_count": 2,
   "id": "55e6ae2e",
   "metadata": {},
   "outputs": [
    {
     "ename": "TclError",
     "evalue": "no display name and no $DISPLAY environment variable",
     "output_type": "error",
     "traceback": [
      "\u001b[0;31m---------------------------------------------------------------------------\u001b[0m",
      "\u001b[0;31mTclError\u001b[0m                                  Traceback (most recent call last)",
      "Cell \u001b[0;32mIn[2], line 3\u001b[0m\n\u001b[1;32m      1\u001b[0m \u001b[39mfrom\u001b[39;00m \u001b[39mtkinter\u001b[39;00m \u001b[39mimport\u001b[39;00m \u001b[39m*\u001b[39m\n\u001b[0;32m----> 3\u001b[0m root \u001b[39m=\u001b[39m Tk()\n\u001b[1;32m      4\u001b[0m root\u001b[39m.\u001b[39mtitle(\u001b[39m\"\u001b[39m\u001b[39mSubject-Faculty Selection\u001b[39m\u001b[39m\"\u001b[39m)\n\u001b[1;32m      5\u001b[0m root\u001b[39m.\u001b[39mgeometry(\u001b[39m\"\u001b[39m\u001b[39m300x200\u001b[39m\u001b[39m\"\u001b[39m)\n",
      "File \u001b[0;32m~/.python/current/lib/python3.10/tkinter/__init__.py:2299\u001b[0m, in \u001b[0;36mTk.__init__\u001b[0;34m(self, screenName, baseName, className, useTk, sync, use)\u001b[0m\n\u001b[1;32m   2297\u001b[0m         baseName \u001b[39m=\u001b[39m baseName \u001b[39m+\u001b[39m ext\n\u001b[1;32m   2298\u001b[0m interactive \u001b[39m=\u001b[39m \u001b[39mFalse\u001b[39;00m\n\u001b[0;32m-> 2299\u001b[0m \u001b[39mself\u001b[39m\u001b[39m.\u001b[39mtk \u001b[39m=\u001b[39m _tkinter\u001b[39m.\u001b[39;49mcreate(screenName, baseName, className, interactive, wantobjects, useTk, sync, use)\n\u001b[1;32m   2300\u001b[0m \u001b[39mif\u001b[39;00m useTk:\n\u001b[1;32m   2301\u001b[0m     \u001b[39mself\u001b[39m\u001b[39m.\u001b[39m_loadtk()\n",
      "\u001b[0;31mTclError\u001b[0m: no display name and no $DISPLAY environment variable"
     ]
    }
   ],
   "source": [
    "from tkinter import *\n",
    "\n",
    "root = Tk()\n",
    "root.title(\"Subject-Faculty Selection\")\n",
    "root.geometry(\"300x200\")\n",
    "\n",
    "subject_listbox = Listbox(root, selectmode=SINGLE)\n",
    "subject_listbox.insert(1, \"Mathematics\")\n",
    "subject_listbox.insert(2, \"Physics\")\n",
    "subject_listbox.insert(3, \"Chemistry\")\n",
    "\n",
    "faculty_listbox = Listbox(root, selectmode=SINGLE)\n",
    "faculty_listbox.insert(1, \"Dr. John\")\n",
    "faculty_listbox.insert(2, \"Dr. Smith\")\n",
    "faculty_listbox.insert(3, \"Dr. Jane\")\n",
    "\n",
    "def submit_selection():\n",
    "    selected_subject = subject_listbox.get(subject_listbox.curselection())\n",
    "    selected_faculty = faculty_listbox.get(faculty_listbox.curselection())\n",
    "    print(\"Subject: {}\\nFaculty: {}\".format(selected_subject, selected_faculty))\n",
    "\n",
    "submit_button = Button(root, text=\"SUBMIT\", command=submit_selection)\n",
    "\n",
    "subject_listbox.grid(row=0, column=0)\n",
    "faculty_listbox.grid(row=0, column=1)\n",
    "\n",
    "submit_button.grid(row=1, column=0, columnspan=2)\n",
    "\n",
    "root.mainloop()"
   ]
  }
 ],
 "metadata": {
  "kernelspec": {
   "display_name": "Python 3 (ipykernel)",
   "language": "python",
   "name": "python3"
  },
  "language_info": {
   "codemirror_mode": {
    "name": "ipython",
    "version": 3
   },
   "file_extension": ".py",
   "mimetype": "text/x-python",
   "name": "python",
   "nbconvert_exporter": "python",
   "pygments_lexer": "ipython3",
   "version": "3.10.4"
  }
 },
 "nbformat": 4,
 "nbformat_minor": 5
}
